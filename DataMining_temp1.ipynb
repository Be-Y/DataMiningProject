{
 "cells": [
  {
   "cell_type": "code",
   "execution_count": 1,
   "metadata": {},
   "outputs": [],
   "source": [
    "import pandas as pd\n",
    "#import pymysql\n",
    "import numpy as np"
   ]
  },
  {
   "cell_type": "code",
   "execution_count": 2,
   "metadata": {},
   "outputs": [],
   "source": [
    "    \n",
    "# coding: utf-8\n",
    "\n",
    "# In[1]:\n",
    "\n",
    "\n",
    "\n",
    "\n",
    "# mysql_cn= pymysql.connect(host='localhost', \n",
    "#                 port=3306,user='root', passwd='Bey_88888', \n",
    "#                 db='Data_mining_Sachin')\n",
    "\n",
    "\n",
    "# In[2]:\n",
    "\n",
    "\n",
    "\n",
    "\n",
    "question_and_tags= pd.read_csv('question_and_tags.csv')\n",
    "\n",
    "# In[3]:\n",
    "\n",
    "\n",
    "tags = pd.read_csv(\"tags.csv\")\n",
    "\n",
    "\n",
    "# In[4]:\n",
    "\n",
    "\n",
    "tagCol = tags.loc[:,['TagName']]\n",
    "\n",
    "tagIdCol = tags.loc[:,['Id']]\n",
    "\n",
    "\n",
    "tagList=tagCol.TagName.unique()\n",
    "\n",
    "\n",
    "# In[5]:\n",
    "\n",
    "\n",
    "tagCount = tagList.size  #tagCount contain total # of tag count\n",
    "\n",
    "\n",
    "# In[6]:\n",
    "\n",
    "\n",
    "# print(tagCount)\n",
    "\n",
    "\n",
    "# In[7]:\n",
    "\n",
    "\n",
    "tagsFromQuestion = question_and_tags.loc[:,['tags']]\n",
    "questionList = question_and_tags.loc[:,['Id']]\n",
    "\n",
    "\n",
    "# In[8]:\n",
    "\n",
    "\n",
    "# dictionary for question tag\n",
    "tagDictionary = {}\n",
    "index=0"
   ]
  },
  {
   "cell_type": "code",
   "execution_count": 3,
   "metadata": {},
   "outputs": [],
   "source": [
    "for index,row in tags.iterrows():\n",
    "    \n",
    "#     print(\"row \",row)\n",
    "    \n",
    "    tagDictionary[row.TagName]=index\n",
    "    index+=1"
   ]
  },
  {
   "cell_type": "code",
   "execution_count": 4,
   "metadata": {},
   "outputs": [
    {
     "name": "stderr",
     "output_type": "stream",
     "text": [
      "/opt/anaconda/lib/python3.6/re.py:212: FutureWarning: split() requires a non-empty pattern match.\n",
      "  return _compile(pattern, flags).split(string, maxsplit)\n"
     ]
    },
    {
     "data": {
      "text/plain": [
       "<matplotlib.figure.Figure at 0x7fc4ea3930f0>"
      ]
     },
     "metadata": {},
     "output_type": "display_data"
    },
    {
     "name": "stderr",
     "output_type": "stream",
     "text": [
      "/opt/anaconda/lib/python3.6/re.py:212: FutureWarning: split() requires a non-empty pattern match.\n",
      "  return _compile(pattern, flags).split(string, maxsplit)\n"
     ]
    }
   ],
   "source": [
    "\n",
    "\n",
    "\n",
    "\n",
    "# In[9]:\n",
    "\n",
    "\n",
    "# print(tagDictionary)\n",
    "\n",
    "\n",
    "# In[10]:\n",
    "\n",
    "\n",
    "# code for computing co-ocurrence of tags in tagMatrix\n",
    "tagDimension = (tagCount,tagCount)\n",
    "\n",
    "tagMatrix = np.zeros(tagDimension)\n",
    "\n",
    "import re\n",
    "\n",
    "for index,row in question_and_tags.iterrows():\n",
    "    questionTag = row.tags\n",
    "    #tempTagList = []\n",
    "    regex=\"<*>?\"\n",
    "    match=re.split(regex,questionTag)   \n",
    "    #print(type(match))\n",
    "    #print(\"Question ID ==> \",row.Id,\" \",\" : Tags ==> \",match)\n",
    "    for temp_str in match:\n",
    "        if(len(temp_str)!=0):\n",
    "            for temp_tag in match:\n",
    "                if(len(temp_tag)!=0):\n",
    "                    #print(\"TempTag ==> \",temp_tag,\" temp_str ==> \",temp_str)\n",
    "                    if((tagDictionary.get(temp_tag) is not None) and (tagDictionary.get(temp_str) is not None) ):\n",
    "                        tagMatrix[tagDictionary[temp_str]][tagDictionary[temp_tag]]+=1\n",
    "                        \n",
    "                    \n",
    "                \n",
    "\n",
    "\n",
    "# In[11]:\n",
    "\n",
    "\n",
    "# computing cosine similarity between tags, we get cosineMatrix\n",
    "import math\n",
    "tagDimension = (tagCount,tagCount)\n",
    "\n",
    "cosineMatrix = np.zeros(tagDimension)\n",
    "\n",
    "for i in range(tagCount):\n",
    "    for j in range(tagCount):\n",
    "        tempNum = tagMatrix[i][j]\n",
    "        tempDeno = tagMatrix[i][i]*tagMatrix[j][j]\n",
    "        if(tempDeno!=0):\n",
    "            cosineMatrix[i][j]=tempNum/math.sqrt(tempDeno)\n",
    "            \n",
    "        \n",
    "        \n",
    "\n",
    "\n",
    "# In[12]:\n",
    "\n",
    "\n",
    "# print((cosineMatrix[0]))\n",
    "\n",
    "\n",
    "# In[13]:\n",
    "\n",
    "\n",
    "import numpy as np\n",
    "import matplotlib.pyplot as plt\n",
    "from matplotlib import style\n",
    "style.use('ggplot')\n",
    "X=np.array(cosineMatrix)\n",
    "from sklearn.cluster import KMeans\n",
    "clf=KMeans(n_clusters=20)\n",
    "clf.fit(X)\n",
    "centroids=clf.cluster_centers_\n",
    "labels=clf.labels_\n",
    "colors= 10*[\"g.\",\"r.\",\"c.\",\"b.\",\"k.\"]\n",
    "for i in range(len(X)):\n",
    "    plt.plot(X[i][0],X[i][1],colors[labels[i]],markersize=25)\n",
    "plt.scatter(centroids[:,0],centroids[:,1],marker='x',s=150,linewidth=5)\n",
    "plt.show()\n",
    "# spectral = SpectralClustering(n_clusters=10, eigen_solver='arpack', affinity='precomputed',assign_labels='discretize')\n",
    "# labels = spectral_clustering(X ,n_clusters=50)\n",
    "\n",
    "\n",
    "\n",
    "# In[14]:\n",
    "\n",
    "\n",
    "# print(labels)\n",
    "\n",
    "\n",
    "# In[15]:\n",
    "\n",
    "\n",
    "clusterSize = np.unique(labels).size\n",
    "\n",
    "# print(\"Cluster size ==> \",clusterSize)\n",
    "\n",
    "\n",
    "# In[16]:\n",
    "\n",
    "\n",
    "# for mapping every tag with its respective topic/cluster, we get tagClusterDict\n",
    "tagClusterDict = {}\n",
    "for t,l in zip(tagList,labels):\n",
    "    tagClusterDict[t]=l\n",
    "    \n",
    "\n",
    "\n",
    "# In[17]:\n",
    "\n",
    "\n",
    "# print(tagClusterDict)\n",
    "\n",
    "\n",
    "# In[18]:\n",
    "\n",
    "\n",
    "import math\n",
    "\n",
    "def sigmoid(x):\n",
    "  return 1 / (1 + math.exp(-x))\n",
    "\n",
    "\n",
    "# In[19]:\n",
    "\n",
    "\n",
    "# clusterDict to store number of tags in each cluster\n",
    "from collections import defaultdict\n",
    "clusterDict=defaultdict(int)\n",
    "for t in labels:\n",
    "    clusterDict[t]+=1\n",
    "\n",
    "\n",
    "# In[20]:\n",
    "\n",
    "\n",
    "# print(clusterDict)\n",
    "\n",
    "\n",
    "# In[21]:\n",
    "\n",
    "\n",
    "userDict = {}\n",
    "\n",
    "\n",
    "# In[22]:\n",
    "\n",
    "\n",
    "question_set = pd.read_csv(\"question_set_query.csv\")\n",
    "# print(type(question_set))\n",
    "\n",
    "\n",
    "# In[23]:\n",
    "\n",
    "\n",
    "question_set = question_set[question_set.user_id!=0]\n",
    "\n",
    "question_set = question_set[question_set.user_id!=-1]\n",
    "\n",
    "\n",
    "# In[24]:\n",
    "\n",
    "\n",
    "# print(question_set.size)\n",
    "userGroup = question_set.groupby('user_id')\n",
    "\n",
    "\n",
    "# In[25]:\n",
    "\n",
    "\n",
    "userKeys = userGroup.groups.keys()\n",
    "\n",
    "\n",
    "# In[26]:\n",
    "\n",
    "\n",
    "# print(type(userKeys))\n",
    "\n",
    "\n",
    "# In[27]:\n",
    "\n",
    "\n",
    "import re\n",
    "\n",
    "\n",
    "# In[28]:\n",
    "\n",
    "\n",
    "allTags =pd.read_csv(\"allTags.csv\")\n",
    "\n",
    "allScores= pd.read_csv(\"allScores.csv\")\n",
    "\n",
    "\n",
    "topic_exp={}\n",
    "\n",
    "from collections import defaultdict\n",
    "\n",
    "#tagClusterDict contains the tag to cluster ID mapping\n",
    "#clusterDict contains the total count of tags against each and every cluster\n",
    "\n",
    "for user in userKeys:\n",
    "    temp_q_list = userGroup.get_group(user).values[:,0:1]\n",
    "    #sum=0\n",
    "    tempClusDict=defaultdict(int)\n",
    "    #Loop for question\n",
    "    for temp_y in temp_q_list:\n",
    "        tagset=set()\n",
    "        \n",
    "        \n",
    "        #result = pd.read_sql(\"select Tags from posts where Id=%d;\"%temp_y[0],mysql_cn)\n",
    "        \n",
    "        result=allTags.loc[allTags['Id']==temp_y[0]]\n",
    "        #print(result)\n",
    "        \n",
    "        tags=result.Tags\n",
    "        tags=tags.values[0]\n",
    "        \n",
    "#         print(\"Tags ==> \",tags)\n",
    "        regex=\"<*>?\"\n",
    "        match=re.split(regex,tags)        \n",
    "        for temp_str in match:\n",
    "            if(len(temp_str)!=0):\n",
    "                tagset.add(temp_str)\n",
    "        \n",
    "        #result=pd.read_sql(\"select Score from posts where Id=%d;\"%temp_y[0],mysql_cn)\n",
    "        result=allScores.loc[allScores['Id']==temp_y[0]]\n",
    "        score = result.Score\n",
    "        score = score.values[0]\n",
    "#         print(\"Score ==> \",score)\n",
    "        \n",
    "        for tempTag in tagset:\n",
    "            if(tagClusterDict.get(tempTag) is not None):\n",
    "                clusterId=tagClusterDict[tempTag]\n",
    "                totalTagCount = clusterDict[clusterId]\n",
    "                tempClusDict[clusterId]+=((1/totalTagCount)*sigmoid(score))\n",
    "            \n",
    "        \n",
    "        \n",
    "       \n",
    "    \n",
    "    topic_exp[user]=tempClusDict\n",
    "        \n",
    "    tempClusDict=None\n",
    "\n",
    "\n",
    "# In[29]:\n",
    "\n",
    "\n",
    "# print(topic_exp[5])\n",
    "\n",
    "\n",
    "# In[30]:\n",
    "\n",
    "\n",
    "\n",
    "\n",
    "# In[31]:\n",
    "\n",
    "#total_ans_user_query.csv\n",
    "\n",
    "total_ans_df = pd.read_csv(\"total_ans_user_query.csv\")\n",
    "\n",
    "\n",
    "# In[32]:\n",
    "\n",
    "\n",
    "\n",
    "\n",
    "# In[33]:\n",
    "\n",
    "\n",
    "total_ans_df.head(2)\n",
    "\n",
    "total_ans_dict = total_ans_df.set_index('user_id').T.to_dict()\n",
    "\n",
    "#print(total_ans_dict[2]['answer_count'])\n",
    "\n",
    "\n",
    "# In[34]:\n",
    "\n",
    "#total_ans_user_by_hour_query.csv\n",
    "\n",
    "#total_ans_by_hour_df=pd.read_sql(total_ans_user_by_hour_query,con=mysql_cn)\n",
    "total_ans_by_hour_df=pd.read_csv(\"total_ans_user_by_hour_query.csv\")\n",
    "\n",
    "# In[35]:\n",
    "\n",
    "\n",
    "total_ans_by_hour_df.head(2)\n",
    "\n",
    "\n",
    "# In[36]:\n",
    "\n",
    "\n",
    "from collections import defaultdict\n",
    "\n",
    "hourDict=defaultdict(dict)\n",
    "\n",
    "\n",
    "# In[37]:\n",
    "\n",
    "\n",
    "for index,row in total_ans_by_hour_df.iterrows():\n",
    "    hour = row[\"hour_of_ans\"]\n",
    "    user = row[\"user_id\"]\n",
    "    ans_count = row[\"answer_count\"]\n",
    "    \n",
    "    if(hourDict.get(hour) is None):\n",
    "        userDict = defaultdict(int)\n",
    "        \n",
    "    else:\n",
    "        userDict=hourDict[hour]\n",
    "    \n",
    "    totalAnsCount = total_ans_dict[user]['answer_count']\n",
    "    userDict[user]+=(ans_count/totalAnsCount)\n",
    "    hourDict[hour]=userDict\n",
    "\n",
    "\n",
    "# In[38]:\n",
    "\n",
    "\n",
    "# print(hourDict)\n",
    "\n",
    "\n",
    "# In[39]:\n",
    "\n",
    "\n",
    "import pandas as pd\n",
    "import numpy as np\n",
    "\n",
    "import seaborn as sns\n",
    "import matplotlib.pyplot as plt\n",
    "get_ipython().magic('matplotlib inline')\n",
    "\n",
    "\n",
    "# In[40]:\n",
    "\n",
    "\n",
    "# #set font size of labels on matplotlib plots\n",
    "# plt.rc('font', size=16)\n",
    "\n",
    "# #set style of plots\n",
    "# sns.set_style('white')\n",
    "\n",
    "# #define a custom palette\n",
    "# customPalette = ['#630C3A', '#39C8C6', '#D3500C', '#FFB139']\n",
    "# sns.set_palette(customPalette)\n",
    "# sns.palplot(customPalette)\n",
    "\n",
    "\n",
    "# In[41]:\n",
    "\n",
    "\n",
    "# import time\n",
    "# import pylab as pl\n",
    "# plot_num = 1\n",
    "# for algorithm in [two_means, labels]:\n",
    "#         # predict cluster memberships\n",
    "#         t0 = time.time()\n",
    "#         algorithm.fit(X)\n",
    "#         t1 = time.time()\n",
    "#         if hasattr(algorithm, 'labels_'):\n",
    "#             y_pred = algorithm.labels_.astype(np.int)\n",
    "#         else:\n",
    "#             y_pred = algorithm.predict(X)\n",
    "\n",
    "#         # plot\n",
    "#         pl.subplot(1, 2, plot_num)\n",
    "#             #if i_dataset == 0:\n",
    "#             #pl.title(str(algorithm).split('(')[0], size=18)\n",
    "#         pl.scatter(X[:, 0], X[:, 1], color=colors[y_pred].tolist(), s=10)\n",
    "\n",
    "#         if hasattr(algorithm, 'cluster_centers_'):\n",
    "#             centers = algorithm.cluster_centers_\n",
    "#             center_colors = colors[:len(centers)]\n",
    "#             pl.scatter(centers[:, 0], centers[:, 1], s=100, c=center_colors)\n",
    "#         pl.xlim(-2.5, 2.5)\n",
    "#         pl.ylim(-2.5, 2.5)\n",
    "#         pl.xticks(())\n",
    "#         pl.yticks(())\n",
    "#         pl.text(.99, .01, ('%.2fs' % (t1 - t0)).lstrip('0'),\n",
    "#                 transform=pl.gca().transAxes, size=15,\n",
    "#                 horizontalalignment='right')\n",
    "#         plot_num += 1\n",
    "\n",
    "# pl.show()\n",
    "\n",
    "\n",
    "# In[42]:\n",
    "\n",
    "\n",
    "# # Show\n",
    "# plt.scatter(X[:, 0], X[:, 1],\n",
    "#             c=labels, edgecolor='')\n",
    "\n",
    "\n",
    "\n",
    "# In[43]:\n",
    "\n",
    "\n",
    "# plt.xlabel('PC1')\n",
    "# plt.ylabel('PC2')\n",
    "# plt.show()\n",
    "\n",
    "\n",
    "\n"
   ]
  },
  {
   "cell_type": "code",
   "execution_count": null,
   "metadata": {},
   "outputs": [],
   "source": []
  },
  {
   "cell_type": "code",
   "execution_count": null,
   "metadata": {},
   "outputs": [],
   "source": []
  },
  {
   "cell_type": "code",
   "execution_count": 5,
   "metadata": {},
   "outputs": [],
   "source": [
    "# In[82]:\n",
    "\n",
    "\n",
    "#tagQuery=\"select  hour(pst.CreationDate) hour_of_ans  , pst.Tags tags from posts pst  , post_history pst_hist  where pst.PostTypeId=1 and pst.Id=pst_hist.PostId  and pst_hist.UserId NOT IN (0,-1)  group by hour(pst.CreationDate) , pst.Tags order by hour(pst.CreationDate) asc;\"\n",
    "\n",
    "\n",
    "# In[83]:\n",
    "\n",
    "#tagQuery.csv\n",
    "tagHour = pd.read_csv(\"tagQuery.csv\")\n",
    "\n"
   ]
  },
  {
   "cell_type": "code",
   "execution_count": 6,
   "metadata": {},
   "outputs": [
    {
     "data": {
      "text/html": [
       "<div>\n",
       "<style scoped>\n",
       "    .dataframe tbody tr th:only-of-type {\n",
       "        vertical-align: middle;\n",
       "    }\n",
       "\n",
       "    .dataframe tbody tr th {\n",
       "        vertical-align: top;\n",
       "    }\n",
       "\n",
       "    .dataframe thead th {\n",
       "        text-align: right;\n",
       "    }\n",
       "</style>\n",
       "<table border=\"1\" class=\"dataframe\">\n",
       "  <thead>\n",
       "    <tr style=\"text-align: right;\">\n",
       "      <th></th>\n",
       "      <th>hour_of_ans</th>\n",
       "      <th>tags</th>\n",
       "    </tr>\n",
       "  </thead>\n",
       "  <tbody>\n",
       "    <tr>\n",
       "      <th>0</th>\n",
       "      <td>0</td>\n",
       "      <td>&lt;.net&gt;&lt;asp.net&gt;&lt;asp.net-mvc&gt;&lt;webforms&gt;</td>\n",
       "    </tr>\n",
       "    <tr>\n",
       "      <th>1</th>\n",
       "      <td>0</td>\n",
       "      <td>&lt;.net&gt;&lt;continuous-integration&gt;&lt;builds&gt;&lt;node.js...</td>\n",
       "    </tr>\n",
       "    <tr>\n",
       "      <th>2</th>\n",
       "      <td>0</td>\n",
       "      <td>&lt;.net&gt;&lt;generics&gt;</td>\n",
       "    </tr>\n",
       "    <tr>\n",
       "      <th>3</th>\n",
       "      <td>0</td>\n",
       "      <td>&lt;.net&gt;&lt;html&gt;&lt;css&gt;&lt;information&gt;</td>\n",
       "    </tr>\n",
       "  </tbody>\n",
       "</table>\n",
       "</div>"
      ],
      "text/plain": [
       "   hour_of_ans                                               tags\n",
       "0            0             <.net><asp.net><asp.net-mvc><webforms>\n",
       "1            0  <.net><continuous-integration><builds><node.js...\n",
       "2            0                                   <.net><generics>\n",
       "3            0                     <.net><html><css><information>"
      ]
     },
     "execution_count": 6,
     "metadata": {},
     "output_type": "execute_result"
    }
   ],
   "source": [
    "tagHour.head(4)\n",
    "\n"
   ]
  },
  {
   "cell_type": "code",
   "execution_count": 7,
   "metadata": {},
   "outputs": [],
   "source": [
    "tagHour1=tagHour.copy()\n"
   ]
  },
  {
   "cell_type": "code",
   "execution_count": null,
   "metadata": {},
   "outputs": [],
   "source": []
  },
  {
   "cell_type": "code",
   "execution_count": 8,
   "metadata": {},
   "outputs": [],
   "source": [
    "userTempList=[]\n",
    "        \n",
    "for user in userKeys:\n",
    "    t=\"Avail_\"+str(user)\n",
    "    userTempList.append(t)\n",
    "    \n",
    "\n",
    "tagHour1=pd.concat([tagHour1,pd.DataFrame(columns=userTempList)],axis=1)\n",
    "\n",
    "\n",
    "\n"
   ]
  },
  {
   "cell_type": "code",
   "execution_count": 9,
   "metadata": {},
   "outputs": [],
   "source": [
    "clusterList=[]\n",
    "\n",
    "\n",
    "\n",
    "for lbl in range(clusterSize):\n",
    "    t=\"Clust_\"+str(lbl)\n",
    "#     print(t)\n",
    "    clusterList.append(t)\n",
    "\n",
    "tagHour1=pd.concat([tagHour1,pd.DataFrame(columns=clusterList)],axis=1)    "
   ]
  },
  {
   "cell_type": "code",
   "execution_count": 10,
   "metadata": {},
   "outputs": [
    {
     "data": {
      "text/html": [
       "<div>\n",
       "<style scoped>\n",
       "    .dataframe tbody tr th:only-of-type {\n",
       "        vertical-align: middle;\n",
       "    }\n",
       "\n",
       "    .dataframe tbody tr th {\n",
       "        vertical-align: top;\n",
       "    }\n",
       "\n",
       "    .dataframe thead th {\n",
       "        text-align: right;\n",
       "    }\n",
       "</style>\n",
       "<table border=\"1\" class=\"dataframe\">\n",
       "  <thead>\n",
       "    <tr style=\"text-align: right;\">\n",
       "      <th></th>\n",
       "      <th>hour_of_ans</th>\n",
       "      <th>tags</th>\n",
       "      <th>Avail_3</th>\n",
       "      <th>Avail_4</th>\n",
       "      <th>Avail_5</th>\n",
       "      <th>Avail_6</th>\n",
       "      <th>Avail_7</th>\n",
       "      <th>Avail_9</th>\n",
       "      <th>Avail_11</th>\n",
       "      <th>Avail_12</th>\n",
       "      <th>...</th>\n",
       "      <th>Clust_10</th>\n",
       "      <th>Clust_11</th>\n",
       "      <th>Clust_12</th>\n",
       "      <th>Clust_13</th>\n",
       "      <th>Clust_14</th>\n",
       "      <th>Clust_15</th>\n",
       "      <th>Clust_16</th>\n",
       "      <th>Clust_17</th>\n",
       "      <th>Clust_18</th>\n",
       "      <th>Clust_19</th>\n",
       "    </tr>\n",
       "  </thead>\n",
       "  <tbody>\n",
       "    <tr>\n",
       "      <th>0</th>\n",
       "      <td>0</td>\n",
       "      <td>&lt;.net&gt;&lt;asp.net&gt;&lt;asp.net-mvc&gt;&lt;webforms&gt;</td>\n",
       "      <td>NaN</td>\n",
       "      <td>NaN</td>\n",
       "      <td>NaN</td>\n",
       "      <td>NaN</td>\n",
       "      <td>NaN</td>\n",
       "      <td>NaN</td>\n",
       "      <td>NaN</td>\n",
       "      <td>NaN</td>\n",
       "      <td>...</td>\n",
       "      <td>NaN</td>\n",
       "      <td>NaN</td>\n",
       "      <td>NaN</td>\n",
       "      <td>NaN</td>\n",
       "      <td>NaN</td>\n",
       "      <td>NaN</td>\n",
       "      <td>NaN</td>\n",
       "      <td>NaN</td>\n",
       "      <td>NaN</td>\n",
       "      <td>NaN</td>\n",
       "    </tr>\n",
       "    <tr>\n",
       "      <th>1</th>\n",
       "      <td>0</td>\n",
       "      <td>&lt;.net&gt;&lt;continuous-integration&gt;&lt;builds&gt;&lt;node.js...</td>\n",
       "      <td>NaN</td>\n",
       "      <td>NaN</td>\n",
       "      <td>NaN</td>\n",
       "      <td>NaN</td>\n",
       "      <td>NaN</td>\n",
       "      <td>NaN</td>\n",
       "      <td>NaN</td>\n",
       "      <td>NaN</td>\n",
       "      <td>...</td>\n",
       "      <td>NaN</td>\n",
       "      <td>NaN</td>\n",
       "      <td>NaN</td>\n",
       "      <td>NaN</td>\n",
       "      <td>NaN</td>\n",
       "      <td>NaN</td>\n",
       "      <td>NaN</td>\n",
       "      <td>NaN</td>\n",
       "      <td>NaN</td>\n",
       "      <td>NaN</td>\n",
       "    </tr>\n",
       "  </tbody>\n",
       "</table>\n",
       "<p>2 rows × 23673 columns</p>\n",
       "</div>"
      ],
      "text/plain": [
       "   hour_of_ans                                               tags Avail_3  \\\n",
       "0            0             <.net><asp.net><asp.net-mvc><webforms>     NaN   \n",
       "1            0  <.net><continuous-integration><builds><node.js...     NaN   \n",
       "\n",
       "  Avail_4 Avail_5 Avail_6 Avail_7 Avail_9 Avail_11 Avail_12   ...    Clust_10  \\\n",
       "0     NaN     NaN     NaN     NaN     NaN      NaN      NaN   ...         NaN   \n",
       "1     NaN     NaN     NaN     NaN     NaN      NaN      NaN   ...         NaN   \n",
       "\n",
       "  Clust_11 Clust_12 Clust_13 Clust_14 Clust_15 Clust_16 Clust_17 Clust_18  \\\n",
       "0      NaN      NaN      NaN      NaN      NaN      NaN      NaN      NaN   \n",
       "1      NaN      NaN      NaN      NaN      NaN      NaN      NaN      NaN   \n",
       "\n",
       "  Clust_19  \n",
       "0      NaN  \n",
       "1      NaN  \n",
       "\n",
       "[2 rows x 23673 columns]"
      ]
     },
     "execution_count": 10,
     "metadata": {},
     "output_type": "execute_result"
    }
   ],
   "source": [
    "tagHour1.head(2)"
   ]
  },
  {
   "cell_type": "code",
   "execution_count": 12,
   "metadata": {},
   "outputs": [],
   "source": [
    "userExpTagList=[]\n",
    "        \n",
    "for user in userKeys:\n",
    "    t=\"UserExpTagForUserID_\"+str(user)\n",
    "    userExpTagList.append(t)\n",
    "    \n",
    "\n",
    "tagHour1=pd.concat([tagHour1,pd.DataFrame(columns=userExpTagList)],axis=1)\n",
    "\n",
    "\n",
    "\n",
    "\n"
   ]
  },
  {
   "cell_type": "code",
   "execution_count": 13,
   "metadata": {},
   "outputs": [
    {
     "data": {
      "text/html": [
       "<div>\n",
       "<style scoped>\n",
       "    .dataframe tbody tr th:only-of-type {\n",
       "        vertical-align: middle;\n",
       "    }\n",
       "\n",
       "    .dataframe tbody tr th {\n",
       "        vertical-align: top;\n",
       "    }\n",
       "\n",
       "    .dataframe thead th {\n",
       "        text-align: right;\n",
       "    }\n",
       "</style>\n",
       "<table border=\"1\" class=\"dataframe\">\n",
       "  <thead>\n",
       "    <tr style=\"text-align: right;\">\n",
       "      <th></th>\n",
       "      <th>hour_of_ans</th>\n",
       "      <th>tags</th>\n",
       "      <th>Avail_3</th>\n",
       "      <th>Avail_4</th>\n",
       "      <th>Avail_5</th>\n",
       "      <th>Avail_6</th>\n",
       "      <th>Avail_7</th>\n",
       "      <th>Avail_9</th>\n",
       "      <th>Avail_11</th>\n",
       "      <th>Avail_12</th>\n",
       "      <th>...</th>\n",
       "      <th>UserExpTagForUserID_289358</th>\n",
       "      <th>UserExpTagForUserID_289431</th>\n",
       "      <th>UserExpTagForUserID_289442</th>\n",
       "      <th>UserExpTagForUserID_289522</th>\n",
       "      <th>UserExpTagForUserID_289552</th>\n",
       "      <th>UserExpTagForUserID_289679</th>\n",
       "      <th>UserExpTagForUserID_289738</th>\n",
       "      <th>UserExpTagForUserID_289765</th>\n",
       "      <th>UserExpTagForUserID_289779</th>\n",
       "      <th>UserExpTagForUserID_289855</th>\n",
       "    </tr>\n",
       "  </thead>\n",
       "  <tbody>\n",
       "    <tr>\n",
       "      <th>0</th>\n",
       "      <td>0</td>\n",
       "      <td>&lt;.net&gt;&lt;asp.net&gt;&lt;asp.net-mvc&gt;&lt;webforms&gt;</td>\n",
       "      <td>NaN</td>\n",
       "      <td>NaN</td>\n",
       "      <td>NaN</td>\n",
       "      <td>NaN</td>\n",
       "      <td>NaN</td>\n",
       "      <td>NaN</td>\n",
       "      <td>NaN</td>\n",
       "      <td>NaN</td>\n",
       "      <td>...</td>\n",
       "      <td>NaN</td>\n",
       "      <td>NaN</td>\n",
       "      <td>NaN</td>\n",
       "      <td>NaN</td>\n",
       "      <td>NaN</td>\n",
       "      <td>NaN</td>\n",
       "      <td>NaN</td>\n",
       "      <td>NaN</td>\n",
       "      <td>NaN</td>\n",
       "      <td>NaN</td>\n",
       "    </tr>\n",
       "    <tr>\n",
       "      <th>1</th>\n",
       "      <td>0</td>\n",
       "      <td>&lt;.net&gt;&lt;continuous-integration&gt;&lt;builds&gt;&lt;node.js...</td>\n",
       "      <td>NaN</td>\n",
       "      <td>NaN</td>\n",
       "      <td>NaN</td>\n",
       "      <td>NaN</td>\n",
       "      <td>NaN</td>\n",
       "      <td>NaN</td>\n",
       "      <td>NaN</td>\n",
       "      <td>NaN</td>\n",
       "      <td>...</td>\n",
       "      <td>NaN</td>\n",
       "      <td>NaN</td>\n",
       "      <td>NaN</td>\n",
       "      <td>NaN</td>\n",
       "      <td>NaN</td>\n",
       "      <td>NaN</td>\n",
       "      <td>NaN</td>\n",
       "      <td>NaN</td>\n",
       "      <td>NaN</td>\n",
       "      <td>NaN</td>\n",
       "    </tr>\n",
       "  </tbody>\n",
       "</table>\n",
       "<p>2 rows × 47324 columns</p>\n",
       "</div>"
      ],
      "text/plain": [
       "   hour_of_ans                                               tags Avail_3  \\\n",
       "0            0             <.net><asp.net><asp.net-mvc><webforms>     NaN   \n",
       "1            0  <.net><continuous-integration><builds><node.js...     NaN   \n",
       "\n",
       "  Avail_4 Avail_5 Avail_6 Avail_7 Avail_9 Avail_11 Avail_12  \\\n",
       "0     NaN     NaN     NaN     NaN     NaN      NaN      NaN   \n",
       "1     NaN     NaN     NaN     NaN     NaN      NaN      NaN   \n",
       "\n",
       "             ...             UserExpTagForUserID_289358  \\\n",
       "0            ...                                    NaN   \n",
       "1            ...                                    NaN   \n",
       "\n",
       "  UserExpTagForUserID_289431 UserExpTagForUserID_289442  \\\n",
       "0                        NaN                        NaN   \n",
       "1                        NaN                        NaN   \n",
       "\n",
       "  UserExpTagForUserID_289522 UserExpTagForUserID_289552  \\\n",
       "0                        NaN                        NaN   \n",
       "1                        NaN                        NaN   \n",
       "\n",
       "  UserExpTagForUserID_289679 UserExpTagForUserID_289738  \\\n",
       "0                        NaN                        NaN   \n",
       "1                        NaN                        NaN   \n",
       "\n",
       "  UserExpTagForUserID_289765 UserExpTagForUserID_289779  \\\n",
       "0                        NaN                        NaN   \n",
       "1                        NaN                        NaN   \n",
       "\n",
       "  UserExpTagForUserID_289855  \n",
       "0                        NaN  \n",
       "1                        NaN  \n",
       "\n",
       "[2 rows x 47324 columns]"
      ]
     },
     "execution_count": 13,
     "metadata": {},
     "output_type": "execute_result"
    }
   ],
   "source": [
    "tagHour1.head(2)"
   ]
  },
  {
   "cell_type": "code",
   "execution_count": 14,
   "metadata": {},
   "outputs": [],
   "source": [
    "#topic_exp\n",
    "mostTopicExp={}\n",
    "for tempUser in userTempList:\n",
    "    t1=int(tempUser.split(\"_\")[1])\n",
    "    exp=topic_exp[t1]\n",
    "    maxScore=-999999999\n",
    "    maxClustId=-9999999\n",
    "    for tK in exp.keys():\n",
    "        if(exp[tK]>maxScore):\n",
    "            maxScore=exp[tK]\n",
    "            maxClustId=tK\n",
    "    \n",
    "#     print(\"For UserID \",t1,\" , most expertise in cluster ID \",maxClustId)\n",
    "    mostTopicExp[t1]=maxClustId\n",
    "\n",
    "\n"
   ]
  },
  {
   "cell_type": "code",
   "execution_count": 15,
   "metadata": {},
   "outputs": [
    {
     "data": {
      "text/plain": [
       "pandas.core.frame.DataFrame"
      ]
     },
     "execution_count": 15,
     "metadata": {},
     "output_type": "execute_result"
    }
   ],
   "source": [
    "type(tagHour1)"
   ]
  },
  {
   "cell_type": "code",
   "execution_count": 16,
   "metadata": {},
   "outputs": [],
   "source": [
    "# tagHour2=tagHour1.copy()"
   ]
  },
  {
   "cell_type": "code",
   "execution_count": 17,
   "metadata": {},
   "outputs": [],
   "source": [
    "# tagHour2.head(1)"
   ]
  },
  {
   "cell_type": "code",
   "execution_count": 18,
   "metadata": {},
   "outputs": [],
   "source": [
    "aa=pd.DataFrame([[1,2,3,4],[7,6,5,4],[1,9,4,6]])"
   ]
  },
  {
   "cell_type": "code",
   "execution_count": 19,
   "metadata": {},
   "outputs": [
    {
     "data": {
      "text/html": [
       "<div>\n",
       "<style scoped>\n",
       "    .dataframe tbody tr th:only-of-type {\n",
       "        vertical-align: middle;\n",
       "    }\n",
       "\n",
       "    .dataframe tbody tr th {\n",
       "        vertical-align: top;\n",
       "    }\n",
       "\n",
       "    .dataframe thead th {\n",
       "        text-align: right;\n",
       "    }\n",
       "</style>\n",
       "<table border=\"1\" class=\"dataframe\">\n",
       "  <thead>\n",
       "    <tr style=\"text-align: right;\">\n",
       "      <th></th>\n",
       "      <th>0</th>\n",
       "      <th>1</th>\n",
       "      <th>2</th>\n",
       "      <th>3</th>\n",
       "    </tr>\n",
       "  </thead>\n",
       "  <tbody>\n",
       "    <tr>\n",
       "      <th>0</th>\n",
       "      <td>1</td>\n",
       "      <td>2</td>\n",
       "      <td>3</td>\n",
       "      <td>4</td>\n",
       "    </tr>\n",
       "    <tr>\n",
       "      <th>1</th>\n",
       "      <td>7</td>\n",
       "      <td>6</td>\n",
       "      <td>5</td>\n",
       "      <td>4</td>\n",
       "    </tr>\n",
       "    <tr>\n",
       "      <th>2</th>\n",
       "      <td>1</td>\n",
       "      <td>9</td>\n",
       "      <td>4</td>\n",
       "      <td>6</td>\n",
       "    </tr>\n",
       "  </tbody>\n",
       "</table>\n",
       "</div>"
      ],
      "text/plain": [
       "   0  1  2  3\n",
       "0  1  2  3  4\n",
       "1  7  6  5  4\n",
       "2  1  9  4  6"
      ]
     },
     "execution_count": 19,
     "metadata": {},
     "output_type": "execute_result"
    }
   ],
   "source": [
    "aa"
   ]
  },
  {
   "cell_type": "code",
   "execution_count": 20,
   "metadata": {},
   "outputs": [],
   "source": [
    "# for index,row in aa.iterrows():\n",
    "#     print(index,row[1],row[3])\n",
    "#     if(index==1):\n",
    "#         break"
   ]
  },
  {
   "cell_type": "code",
   "execution_count": null,
   "metadata": {},
   "outputs": [
    {
     "name": "stderr",
     "output_type": "stream",
     "text": [
      "/opt/anaconda/lib/python3.6/re.py:212: FutureWarning: split() requires a non-empty pattern match.\n",
      "  return _compile(pattern, flags).split(string, maxsplit)\n"
     ]
    }
   ],
   "source": [
    "for index,row in tagHour1.iterrows():\n",
    "    hour=row['hour_of_ans']\n",
    "    tags=row['tags']\n",
    "    regex=\"<*>?\"\n",
    "    tempTagSet=set()\n",
    "    for temp_array in tags:\n",
    "        match=re.split(regex,(temp_array))\n",
    "        for temp_str in match:\n",
    "            if(len(temp_str)!=0):\n",
    "                tempTagSet.add(temp_str)\n",
    "                \n",
    "    tempList=(list(tempTagSet))  \n",
    "    tagHour1.at[index,'hour_of_ans']=hour\n",
    "    tagHour1.at[index,'tags']=tempList\n",
    "    \n",
    "    for tempUser in userTempList:\n",
    "        t1=int(tempUser.split(\"_\")[1])\n",
    "        tagHour1.at[index,tempUser]=hourDict[hour][t1]\n",
    "        \n",
    "    for tags in tempList:\n",
    "        if(tagClusterDict.get(tags)is not None):\n",
    "            clustId=tagClusterDict[tags]\n",
    "            tagHour1.at[index,\"Clust_\"+str(clustId)]=1\n",
    "          \n",
    "    for userExpertiseTemp in userExpTagList:\n",
    "        t1=int(userExpertiseTemp.split(\"_\")[1])\n",
    "        tagHour1.at[index,userExpertiseTemp]=mostTopicExp[t1]\n",
    "            \n",
    "      \n",
    "                \n",
    "                \n",
    "            \n",
    "    \n",
    "    \n",
    "    \n",
    "    \n",
    "    \n",
    "    \n",
    "    "
   ]
  },
  {
   "cell_type": "code",
   "execution_count": null,
   "metadata": {},
   "outputs": [],
   "source": []
  },
  {
   "cell_type": "code",
   "execution_count": null,
   "metadata": {},
   "outputs": [],
   "source": []
  },
  {
   "cell_type": "code",
   "execution_count": null,
   "metadata": {},
   "outputs": [],
   "source": []
  },
  {
   "cell_type": "code",
   "execution_count": null,
   "metadata": {},
   "outputs": [],
   "source": []
  },
  {
   "cell_type": "code",
   "execution_count": null,
   "metadata": {},
   "outputs": [],
   "source": [
    "aa[2]"
   ]
  },
  {
   "cell_type": "code",
   "execution_count": null,
   "metadata": {},
   "outputs": [],
   "source": [
    "a=str(tagHour1['tags'].head(1))"
   ]
  },
  {
   "cell_type": "code",
   "execution_count": null,
   "metadata": {},
   "outputs": [],
   "source": [
    "a"
   ]
  },
  {
   "cell_type": "code",
   "execution_count": null,
   "metadata": {},
   "outputs": [],
   "source": [
    "for i in range(len(a)):\n",
    "    if a[i]=='<':\n",
    "        z=''\n",
    "        for j in range(i+1,len(a)):\n",
    "            if(a[j]!= '>'):\n",
    "                z=z+a[j]\n",
    "            else:\n",
    "                i=j\n",
    "                print(z)\n",
    "                break"
   ]
  },
  {
   "cell_type": "code",
   "execution_count": null,
   "metadata": {},
   "outputs": [],
   "source": []
  },
  {
   "cell_type": "code",
   "execution_count": null,
   "metadata": {},
   "outputs": [],
   "source": []
  },
  {
   "cell_type": "code",
   "execution_count": null,
   "metadata": {},
   "outputs": [],
   "source": [
    "tagDictionary['.net']"
   ]
  },
  {
   "cell_type": "code",
   "execution_count": null,
   "metadata": {},
   "outputs": [],
   "source": []
  },
  {
   "cell_type": "code",
   "execution_count": null,
   "metadata": {},
   "outputs": [],
   "source": []
  },
  {
   "cell_type": "code",
   "execution_count": null,
   "metadata": {},
   "outputs": [],
   "source": []
  },
  {
   "cell_type": "code",
   "execution_count": null,
   "metadata": {},
   "outputs": [],
   "source": []
  },
  {
   "cell_type": "code",
   "execution_count": null,
   "metadata": {},
   "outputs": [],
   "source": []
  },
  {
   "cell_type": "code",
   "execution_count": null,
   "metadata": {},
   "outputs": [],
   "source": []
  },
  {
   "cell_type": "code",
   "execution_count": null,
   "metadata": {},
   "outputs": [],
   "source": []
  },
  {
   "cell_type": "code",
   "execution_count": null,
   "metadata": {},
   "outputs": [],
   "source": [
    "import re\n",
    "\n",
    "for index,row in tagHour1.iterrows():\n",
    "    print(\"Index ==> \",index,\" \",\"Row ==> \",row)\n",
    "#     temp_tag_list = hourGroup.get_group(hour).values[:,1]\n",
    "#     tempSet=set()\n",
    "#     if(temp_tag_list.size>0):\n",
    "        \n",
    "#         regex=\"<*>?\"\n",
    "#         for temp_array in temp_tag_list:\n",
    "#             match=re.split(regex,(temp_array))\n",
    "#             for temp_str in match:\n",
    "#                 if(len(temp_str)!=0):\n",
    "#                     tempSet.add(temp_str)\n",
    "                    \n",
    "                    \n",
    "#     tempList=(list(tempSet))  \n",
    "#     tagTempHour.at[index,'hour_of_ans']=hour\n",
    "#     tagTempHour.at[index,'tags']=tempList\n",
    "    \n",
    "#     for tempUser in userTempList:\n",
    "#         t1=int(tempUser.split(\"_\")[1])\n",
    "#         tagTempHour.at[index,tempUser]=hourDict[hour][t1]\n",
    "        \n",
    "    \n",
    "#     for tags in tempList:\n",
    "#         clustId=tagClusterDict[tags]\n",
    "#         tagTempHour.at[index,\"Clust_\"+str(clustId)]=1\n",
    "        \n",
    "        \n",
    "#     for userExpertiseTemp in userExpTagList:\n",
    "#         t1=int(userExpertiseTemp.split(\"_\")[1])\n",
    "#         tagTempHour.at[index,userExpertiseTemp]=mostTopicExp[t1]\n",
    "        \n",
    "        \n",
    "    \n",
    "#     index+=1"
   ]
  },
  {
   "cell_type": "code",
   "execution_count": null,
   "metadata": {},
   "outputs": [],
   "source": []
  },
  {
   "cell_type": "code",
   "execution_count": null,
   "metadata": {},
   "outputs": [],
   "source": []
  },
  {
   "cell_type": "code",
   "execution_count": null,
   "metadata": {},
   "outputs": [],
   "source": []
  },
  {
   "cell_type": "code",
   "execution_count": null,
   "metadata": {},
   "outputs": [],
   "source": []
  },
  {
   "cell_type": "code",
   "execution_count": null,
   "metadata": {},
   "outputs": [],
   "source": []
  },
  {
   "cell_type": "code",
   "execution_count": null,
   "metadata": {},
   "outputs": [],
   "source": []
  },
  {
   "cell_type": "code",
   "execution_count": null,
   "metadata": {},
   "outputs": [],
   "source": []
  },
  {
   "cell_type": "code",
   "execution_count": null,
   "metadata": {},
   "outputs": [],
   "source": []
  },
  {
   "cell_type": "code",
   "execution_count": null,
   "metadata": {},
   "outputs": [],
   "source": []
  },
  {
   "cell_type": "code",
   "execution_count": null,
   "metadata": {},
   "outputs": [],
   "source": []
  },
  {
   "cell_type": "code",
   "execution_count": null,
   "metadata": {},
   "outputs": [],
   "source": []
  },
  {
   "cell_type": "code",
   "execution_count": null,
   "metadata": {},
   "outputs": [],
   "source": []
  },
  {
   "cell_type": "code",
   "execution_count": null,
   "metadata": {},
   "outputs": [],
   "source": [
    "hourGroup = tagHour.groupby('hour_of_ans')\n",
    "\n",
    "hourKeys = hourGroup.groups.keys()"
   ]
  },
  {
   "cell_type": "code",
   "execution_count": null,
   "metadata": {},
   "outputs": [],
   "source": [
    "from ast import literal_eval"
   ]
  },
  {
   "cell_type": "code",
   "execution_count": null,
   "metadata": {},
   "outputs": [],
   "source": [
    "tagTempHour=pd.DataFrame(columns=['hour_of_ans','tags'])"
   ]
  },
  {
   "cell_type": "code",
   "execution_count": null,
   "metadata": {},
   "outputs": [],
   "source": [
    "tagTempHour.head(2)"
   ]
  },
  {
   "cell_type": "code",
   "execution_count": null,
   "metadata": {},
   "outputs": [],
   "source": [
    "userTempList=[]\n",
    "        \n",
    "for user in userKeys:\n",
    "    t=\"Avail_\"+str(user)\n",
    "    userTempList.append(t)\n",
    "    \n",
    "\n",
    "tagTempHour=pd.concat([tagTempHour,pd.DataFrame(columns=userTempList)],axis=1)\n",
    "\n",
    "\n"
   ]
  },
  {
   "cell_type": "code",
   "execution_count": null,
   "metadata": {},
   "outputs": [],
   "source": [
    "tagTempHour.head(2)"
   ]
  },
  {
   "cell_type": "code",
   "execution_count": null,
   "metadata": {},
   "outputs": [],
   "source": [
    "clusterList=[]\n",
    "\n",
    "\n",
    "\n",
    "for lbl in range(clusterSize):\n",
    "    t=\"Clust_\"+str(lbl)\n",
    "#     print(t)\n",
    "    clusterList.append(t)\n",
    "\n",
    "tagTempHour=pd.concat([tagTempHour,pd.DataFrame(columns=clusterList)],axis=1)    "
   ]
  },
  {
   "cell_type": "code",
   "execution_count": null,
   "metadata": {},
   "outputs": [],
   "source": [
    "tagTempHour.head(2)"
   ]
  },
  {
   "cell_type": "code",
   "execution_count": null,
   "metadata": {},
   "outputs": [],
   "source": [
    "userExpTagList=[]\n",
    "        \n",
    "for user in userKeys:\n",
    "    t=\"UserExpTagForUserID_\"+str(user)\n",
    "    userExpTagList.append(t)\n",
    "    \n",
    "\n",
    "tagTempHour=pd.concat([tagTempHour,pd.DataFrame(columns=userExpTagList)],axis=1)\n",
    "\n",
    "\n",
    "\n"
   ]
  },
  {
   "cell_type": "code",
   "execution_count": null,
   "metadata": {},
   "outputs": [],
   "source": [
    "tagTempHour.head(2)"
   ]
  },
  {
   "cell_type": "code",
   "execution_count": null,
   "metadata": {},
   "outputs": [],
   "source": []
  },
  {
   "cell_type": "code",
   "execution_count": null,
   "metadata": {},
   "outputs": [],
   "source": [
    "#topic_exp\n",
    "mostTopicExp={}\n",
    "for tempUser in userTempList:\n",
    "    t1=int(tempUser.split(\"_\")[1])\n",
    "    exp=topic_exp[t1]\n",
    "    maxScore=-999999999\n",
    "    maxClustId=-9999999\n",
    "    for tK in exp.keys():\n",
    "        if(exp[tK]>maxScore):\n",
    "            maxScore=exp[tK]\n",
    "            maxClustId=tK\n",
    "    \n",
    "    print(\"For UserID \",t1,\" , most expertise in cluster ID \",maxClustId)\n",
    "    mostTopicExp[t1]=maxClustId\n",
    "\n"
   ]
  },
  {
   "cell_type": "code",
   "execution_count": null,
   "metadata": {},
   "outputs": [],
   "source": []
  },
  {
   "cell_type": "code",
   "execution_count": null,
   "metadata": {},
   "outputs": [],
   "source": []
  },
  {
   "cell_type": "code",
   "execution_count": null,
   "metadata": {},
   "outputs": [],
   "source": []
  },
  {
   "cell_type": "code",
   "execution_count": null,
   "metadata": {},
   "outputs": [],
   "source": []
  },
  {
   "cell_type": "code",
   "execution_count": null,
   "metadata": {},
   "outputs": [],
   "source": []
  },
  {
   "cell_type": "code",
   "execution_count": null,
   "metadata": {},
   "outputs": [],
   "source": [
    "import re\n",
    "index=0\n",
    "for hour in hourKeys:\n",
    "    temp_tag_list = hourGroup.get_group(hour).values[:,1]\n",
    "    tempSet=set()\n",
    "    if(temp_tag_list.size>0):\n",
    "        \n",
    "        regex=\"<*>?\"\n",
    "        for temp_array in temp_tag_list:\n",
    "            match=re.split(regex,(temp_array))\n",
    "            for temp_str in match:\n",
    "                if(len(temp_str)!=0):\n",
    "                    tempSet.add(temp_str)\n",
    "                    \n",
    "                    \n",
    "    tempList=(list(tempSet))  \n",
    "    tagTempHour.at[index,'hour_of_ans']=hour\n",
    "    tagTempHour.at[index,'tags']=tempList\n",
    "    \n",
    "    for tempUser in userTempList:\n",
    "        t1=int(tempUser.split(\"_\")[1])\n",
    "        tagTempHour.at[index,tempUser]=hourDict[hour][t1]\n",
    "        \n",
    "    \n",
    "    for tags in tempList:\n",
    "        clustId=tagClusterDict[tags]\n",
    "        tagTempHour.at[index,\"Clust_\"+str(clustId)]=1\n",
    "        \n",
    "        \n",
    "    for userExpertiseTemp in userExpTagList:\n",
    "        t1=int(userExpertiseTemp.split(\"_\")[1])\n",
    "        tagTempHour.at[index,userExpertiseTemp]=mostTopicExp[t1]\n",
    "        \n",
    "        \n",
    "    \n",
    "    index+=1"
   ]
  },
  {
   "cell_type": "code",
   "execution_count": null,
   "metadata": {},
   "outputs": [],
   "source": [
    "tagTempHour.head(4)"
   ]
  },
  {
   "cell_type": "code",
   "execution_count": null,
   "metadata": {},
   "outputs": [],
   "source": [
    "output=None"
   ]
  },
  {
   "cell_type": "code",
   "execution_count": null,
   "metadata": {},
   "outputs": [],
   "source": [
    "userTempList=[]\n",
    "        \n",
    "for user in userKeys:\n",
    "    t=\"Output_\"+str(user)\n",
    "    userTempList.append(t)\n",
    "    \n",
    "    \n",
    "output=pd.concat([output,pd.DataFrame(columns=userTempList)],axis=1)\n",
    "\n",
    "    "
   ]
  },
  {
   "cell_type": "code",
   "execution_count": null,
   "metadata": {},
   "outputs": [],
   "source": [
    "output"
   ]
  },
  {
   "cell_type": "code",
   "execution_count": null,
   "metadata": {},
   "outputs": [],
   "source": []
  },
  {
   "cell_type": "code",
   "execution_count": null,
   "metadata": {},
   "outputs": [],
   "source": []
  },
  {
   "cell_type": "code",
   "execution_count": null,
   "metadata": {},
   "outputs": [],
   "source": [
    "index=0\n",
    "for hour in hourKeys:\n",
    "    print(\"For Hour ===> \",hour)\n",
    "    t=tagTempHour.loc[tagTempHour['hour_of_ans']==hour]\n",
    "    t=t.filter(regex=\"Clust_\")\n",
    "    nonZeroCluster=[]\n",
    "    for i in t:\n",
    "        if(np.isnan(t[i].values[0])==False):\n",
    "            clusterID=int(i.split(\"_\")[1])\n",
    "            nonZeroCluster.append(clusterID)\n",
    "            \n",
    "        \n",
    "    tUserExp=tagTempHour.loc[tagTempHour['hour_of_ans']==hour]\n",
    "    tUserExp=tUserExp.filter(regex=\"UserExpTagForUserID_\")\n",
    "\n",
    "    userExpList=[]\n",
    "\n",
    "    for i in tUserExp:\n",
    "        if(np.isnan(tUserExp[i].values[0])==False):\n",
    "            if(tUserExp[i].values[0] in nonZeroCluster):\n",
    "                userExpList.append(int(i.split(\"_\")[1]))\n",
    "    \n",
    "    t=tagTempHour.loc[tagTempHour['hour_of_ans']==hour]\n",
    "    #maxAvail=-999999\n",
    "    #maxAvailUserId=-999999\n",
    "    \n",
    "    \n",
    "    for temp in userExpList:\n",
    "        avail=t[\"Avail_\"+str(temp)].values[0]\n",
    "        #print(\"Avail_\"+str(temp)+\" \"+\" \",avail)\n",
    "        if(np.isnan(avail) or avail==0):\n",
    "            output.at[index,'Output_'+str(temp)]=0\n",
    "        else:\n",
    "            output.at[index,'Output_'+str(temp)]=1\n",
    "            \n",
    "                \n",
    "    index+=1\n",
    "        \n",
    "        \n",
    "    \n",
    "        \n",
    "                \n",
    "\n",
    "\n",
    "    "
   ]
  },
  {
   "cell_type": "code",
   "execution_count": null,
   "metadata": {},
   "outputs": [],
   "source": [
    "output"
   ]
  },
  {
   "cell_type": "code",
   "execution_count": null,
   "metadata": {},
   "outputs": [],
   "source": [
    "tagTempHour"
   ]
  },
  {
   "cell_type": "code",
   "execution_count": null,
   "metadata": {},
   "outputs": [],
   "source": [
    "tagHour = tagTempHour.copy()"
   ]
  },
  {
   "cell_type": "code",
   "execution_count": null,
   "metadata": {
    "scrolled": true
   },
   "outputs": [],
   "source": [
    "## Removing tags column\n",
    "\n",
    "tagHour.fillna(0)"
   ]
  },
  {
   "cell_type": "code",
   "execution_count": null,
   "metadata": {},
   "outputs": [],
   "source": [
    "tagHour=tagHour.drop(['tags'],axis=1)"
   ]
  },
  {
   "cell_type": "code",
   "execution_count": null,
   "metadata": {},
   "outputs": [],
   "source": [
    "tagHour=tagHour.fillna(0)"
   ]
  },
  {
   "cell_type": "code",
   "execution_count": null,
   "metadata": {
    "scrolled": false
   },
   "outputs": [],
   "source": [
    "from sklearn.model_selection import train_test_split\n"
   ]
  },
  {
   "cell_type": "code",
   "execution_count": null,
   "metadata": {},
   "outputs": [],
   "source": [
    "tagHourMatrix1 = tagHour.as_matrix()"
   ]
  },
  {
   "cell_type": "code",
   "execution_count": null,
   "metadata": {},
   "outputs": [],
   "source": [
    "tagHourMatrix1.shape"
   ]
  },
  {
   "cell_type": "code",
   "execution_count": null,
   "metadata": {},
   "outputs": [],
   "source": [
    "# tagHourMatrix1\n",
    "\n",
    "t=np.array(tagHourMatrix1, dtype=np.float)"
   ]
  },
  {
   "cell_type": "code",
   "execution_count": null,
   "metadata": {},
   "outputs": [],
   "source": [
    "t.shape"
   ]
  },
  {
   "cell_type": "code",
   "execution_count": null,
   "metadata": {},
   "outputs": [],
   "source": [
    "output=output.fillna(0)"
   ]
  },
  {
   "cell_type": "code",
   "execution_count": null,
   "metadata": {},
   "outputs": [],
   "source": [
    "outputMatrix1= output.as_matrix()"
   ]
  },
  {
   "cell_type": "code",
   "execution_count": null,
   "metadata": {},
   "outputs": [],
   "source": [
    "outputMatrix1.shape"
   ]
  },
  {
   "cell_type": "code",
   "execution_count": null,
   "metadata": {},
   "outputs": [],
   "source": [
    "t1=np.array(outputMatrix1,dtype=np.float)"
   ]
  },
  {
   "cell_type": "code",
   "execution_count": null,
   "metadata": {},
   "outputs": [],
   "source": [
    "X_train, X_test, y_train, y_test = train_test_split(t, t1, test_size=0.33, random_state=42)"
   ]
  },
  {
   "cell_type": "code",
   "execution_count": null,
   "metadata": {},
   "outputs": [],
   "source": [
    "np.argwhere(np.isnan(X_train))\n"
   ]
  },
  {
   "cell_type": "code",
   "execution_count": null,
   "metadata": {},
   "outputs": [],
   "source": [
    "np.argwhere(np.isnan(y_train))"
   ]
  },
  {
   "cell_type": "code",
   "execution_count": null,
   "metadata": {},
   "outputs": [],
   "source": [
    "\n"
   ]
  },
  {
   "cell_type": "code",
   "execution_count": null,
   "metadata": {},
   "outputs": [],
   "source": [
    "\n"
   ]
  },
  {
   "cell_type": "code",
   "execution_count": null,
   "metadata": {},
   "outputs": [],
   "source": [
    "\n"
   ]
  },
  {
   "cell_type": "code",
   "execution_count": null,
   "metadata": {},
   "outputs": [],
   "source": []
  },
  {
   "cell_type": "code",
   "execution_count": null,
   "metadata": {},
   "outputs": [],
   "source": [
    "from skmultilearn.problem_transform import ClassifierChain\n",
    "from skmultilearn.problem_transform import BinaryRelevance\n",
    "from sklearn.naive_bayes import GaussianNB\n"
   ]
  },
  {
   "cell_type": "code",
   "execution_count": null,
   "metadata": {},
   "outputs": [],
   "source": [
    "classifier = BinaryRelevance(GaussianNB())\n"
   ]
  },
  {
   "cell_type": "code",
   "execution_count": null,
   "metadata": {
    "scrolled": true
   },
   "outputs": [],
   "source": [
    "classifier.fit(X_train, y_train)\n"
   ]
  },
  {
   "cell_type": "code",
   "execution_count": null,
   "metadata": {},
   "outputs": [],
   "source": [
    "predictions = classifier.predict(X_test)\n"
   ]
  },
  {
   "cell_type": "code",
   "execution_count": null,
   "metadata": {},
   "outputs": [],
   "source": [
    "# from sklearn.metrics import accuracy_score\n",
    "\n",
    "# accuracy_score(y_test,predictions)\n",
    "\n",
    "import sklearn.metrics\n",
    "\n",
    "\n",
    "print(sklearn.metrics.hamming_loss(y_test, predictions))\n",
    "\n"
   ]
  },
  {
   "cell_type": "code",
   "execution_count": null,
   "metadata": {},
   "outputs": [],
   "source": [
    "# X_test"
   ]
  },
  {
   "cell_type": "code",
   "execution_count": null,
   "metadata": {},
   "outputs": [],
   "source": [
    "predictions1=predictions.toarray()"
   ]
  },
  {
   "cell_type": "code",
   "execution_count": null,
   "metadata": {},
   "outputs": [],
   "source": []
  },
  {
   "cell_type": "code",
   "execution_count": null,
   "metadata": {},
   "outputs": [],
   "source": [
    "predictions1"
   ]
  },
  {
   "cell_type": "code",
   "execution_count": null,
   "metadata": {},
   "outputs": [],
   "source": [
    "y_test"
   ]
  },
  {
   "cell_type": "code",
   "execution_count": null,
   "metadata": {},
   "outputs": [],
   "source": [
    "# for i,i1 in zip(predictions1,y_test):\n",
    "#     for j,j1 in zip(i.shape[0],i1):\n",
    "#         print(i,\" \",j)\n",
    "#         print(\"-------\")\n",
    "#         print(i1,j1)\n",
    "# #         print(\"Actual y_test \",i1[j1])\n",
    "# #         print(\"Predicted value \",i[j])"
   ]
  },
  {
   "cell_type": "code",
   "execution_count": null,
   "metadata": {},
   "outputs": [],
   "source": [
    "#predictions1.shape[1]\n",
    "\n",
    "totalShape = predictions1.shape[0]*predictions1.shape[1]"
   ]
  },
  {
   "cell_type": "code",
   "execution_count": null,
   "metadata": {},
   "outputs": [],
   "source": [
    "totalShape"
   ]
  },
  {
   "cell_type": "code",
   "execution_count": null,
   "metadata": {},
   "outputs": [],
   "source": [
    "count=0\n",
    "totalCount=0\n",
    "for ii in range(predictions1.shape[0]):\n",
    "    for jj in range(predictions1.shape[1]):\n",
    "        if(predictions1[ii][jj]== y_test[ii][jj]):\n",
    "            count+=1\n",
    "            if(count==predictions1.shape[1]):\n",
    "                totalCount+=1\n",
    "                \n",
    "    count=0        \n",
    "            \n",
    "print(totalCount)            "
   ]
  },
  {
   "cell_type": "code",
   "execution_count": null,
   "metadata": {},
   "outputs": [],
   "source": []
  },
  {
   "cell_type": "code",
   "execution_count": null,
   "metadata": {},
   "outputs": [],
   "source": [
    "accuracy1 = count/totalShape"
   ]
  },
  {
   "cell_type": "code",
   "execution_count": null,
   "metadata": {},
   "outputs": [],
   "source": [
    "print(\"Accuracy in BinaryRelevance ==> \",accuracy1*100)"
   ]
  },
  {
   "cell_type": "code",
   "execution_count": null,
   "metadata": {},
   "outputs": [],
   "source": []
  },
  {
   "cell_type": "code",
   "execution_count": null,
   "metadata": {},
   "outputs": [],
   "source": []
  },
  {
   "cell_type": "code",
   "execution_count": null,
   "metadata": {},
   "outputs": [],
   "source": []
  },
  {
   "cell_type": "code",
   "execution_count": null,
   "metadata": {},
   "outputs": [],
   "source": []
  },
  {
   "cell_type": "code",
   "execution_count": null,
   "metadata": {},
   "outputs": [],
   "source": []
  },
  {
   "cell_type": "code",
   "execution_count": null,
   "metadata": {},
   "outputs": [],
   "source": []
  },
  {
   "cell_type": "code",
   "execution_count": null,
   "metadata": {},
   "outputs": [],
   "source": []
  },
  {
   "cell_type": "code",
   "execution_count": null,
   "metadata": {},
   "outputs": [],
   "source": []
  },
  {
   "cell_type": "code",
   "execution_count": null,
   "metadata": {},
   "outputs": [],
   "source": []
  },
  {
   "cell_type": "code",
   "execution_count": null,
   "metadata": {},
   "outputs": [],
   "source": []
  },
  {
   "cell_type": "code",
   "execution_count": null,
   "metadata": {},
   "outputs": [],
   "source": []
  },
  {
   "cell_type": "code",
   "execution_count": null,
   "metadata": {},
   "outputs": [],
   "source": []
  },
  {
   "cell_type": "code",
   "execution_count": null,
   "metadata": {},
   "outputs": [],
   "source": []
  },
  {
   "cell_type": "code",
   "execution_count": null,
   "metadata": {},
   "outputs": [],
   "source": []
  },
  {
   "cell_type": "code",
   "execution_count": null,
   "metadata": {},
   "outputs": [],
   "source": []
  },
  {
   "cell_type": "code",
   "execution_count": null,
   "metadata": {},
   "outputs": [],
   "source": []
  },
  {
   "cell_type": "code",
   "execution_count": null,
   "metadata": {},
   "outputs": [],
   "source": []
  },
  {
   "cell_type": "code",
   "execution_count": null,
   "metadata": {},
   "outputs": [],
   "source": []
  },
  {
   "cell_type": "code",
   "execution_count": null,
   "metadata": {},
   "outputs": [],
   "source": []
  },
  {
   "cell_type": "code",
   "execution_count": null,
   "metadata": {},
   "outputs": [],
   "source": []
  },
  {
   "cell_type": "code",
   "execution_count": null,
   "metadata": {},
   "outputs": [],
   "source": []
  },
  {
   "cell_type": "code",
   "execution_count": null,
   "metadata": {},
   "outputs": [],
   "source": []
  },
  {
   "cell_type": "code",
   "execution_count": null,
   "metadata": {},
   "outputs": [],
   "source": []
  }
 ],
 "metadata": {
  "kernelspec": {
   "display_name": "Python 3",
   "language": "python",
   "name": "python3"
  },
  "language_info": {
   "codemirror_mode": {
    "name": "ipython",
    "version": 3
   },
   "file_extension": ".py",
   "mimetype": "text/x-python",
   "name": "python",
   "nbconvert_exporter": "python",
   "pygments_lexer": "ipython3",
   "version": "3.6.4"
  }
 },
 "nbformat": 4,
 "nbformat_minor": 2
}
